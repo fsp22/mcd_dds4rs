{
 "cells": [
  {
   "cell_type": "markdown",
   "id": "30824be3-c3cd-483b-8e85-013a8ce7c4f8",
   "metadata": {},
   "source": [
    "Process MS news dataset for data stream \n",
    "\n",
    "See\n",
    "\n",
    "https://www.kaggle.com/datasets/arashnic/mind-news-dataset\n",
    "\n",
    "https://github.com/microsoft/recommenders"
   ]
  },
  {
   "cell_type": "markdown",
   "id": "dc3c7c56-30db-4425-a81d-64c6a82fdd61",
   "metadata": {},
   "source": [
    "!pip install recommenders"
   ]
  },
  {
   "cell_type": "code",
   "execution_count": null,
   "id": "6064a80c-1bac-49fa-8b58-a0abaa18b836",
   "metadata": {},
   "outputs": [],
   "source": [
    "import os\n",
    "import re\n",
    "import pandas as pd\n",
    "\n",
    "from datetime import timezone\n",
    "from collections import defaultdict\n",
    "\n",
    "from recommenders.datasets import mind as msdataloader\n",
    "from recommenders.datasets.download_utils import unzip_file"
   ]
  },
  {
   "cell_type": "code",
   "execution_count": null,
   "id": "245d3a73-f10d-4346-af92-02d32ae2be33",
   "metadata": {},
   "outputs": [],
   "source": [
    "DATASET_PATH = os.path.expanduser('./dataset_msnews')\n",
    "\n",
    "DATASET_TYPE = 'large'  # small/large\n",
    "\n",
    "if not os.path.exists(DATASET_PATH):\n",
    "    DATASET_PATH = None  # temp dir\n",
    "\n",
    "train_zip, valid_zip = msdataloader.download_mind(size=DATASET_TYPE, dest_path=DATASET_PATH)"
   ]
  },
  {
   "cell_type": "code",
   "execution_count": null,
   "id": "4807eef8-b6d8-4e1b-a6b0-a2feb9b507d5",
   "metadata": {},
   "outputs": [],
   "source": [
    "train_zip, valid_zip"
   ]
  },
  {
   "cell_type": "code",
   "execution_count": null,
   "id": "e6fd7841-6348-4516-8095-8ef6b1368999",
   "metadata": {},
   "outputs": [],
   "source": [
    "unzip_file(train_zip, os.path.join(DATASET_PATH, 'train'), clean_zip_file=False)\n",
    "unzip_file(valid_zip, os.path.join(DATASET_PATH, 'valid'), clean_zip_file=False)"
   ]
  },
  {
   "cell_type": "code",
   "execution_count": null,
   "id": "9a40c305-cb5f-4357-a823-bc85b9223770",
   "metadata": {},
   "outputs": [],
   "source": [
    "!ls {os.path.join(DATASET_PATH, 'train')} {os.path.join(DATASET_PATH, 'valid')}"
   ]
  },
  {
   "cell_type": "markdown",
   "id": "05e1b376-7970-4a25-956f-b354f9c2b09f",
   "metadata": {},
   "source": [
    "# Explore"
   ]
  },
  {
   "cell_type": "code",
   "execution_count": null,
   "id": "9a51a8b5-3a54-40cd-ae3a-8d62cd96e71b",
   "metadata": {},
   "outputs": [],
   "source": [
    "news = pd.read_table(os.path.join(DATASET_PATH, 'train', 'news.tsv'),\n",
    "                     names=['newid', 'vertical', 'subvertical', 'title',\n",
    "                            'abstract', 'url', 'entities in title', 'entities in abstract'],\n",
    "                     usecols = ['vertical', 'subvertical', 'title', 'abstract'])\n",
    "news.head()"
   ]
  },
  {
   "cell_type": "code",
   "execution_count": null,
   "id": "1c208093-2b1c-480a-89dd-bb88fe5ee250",
   "metadata": {},
   "outputs": [],
   "source": [
    "news.describe()"
   ]
  },
  {
   "cell_type": "code",
   "execution_count": null,
   "id": "aa441782-929b-4b49-9b11-b8bc7e705e65",
   "metadata": {},
   "outputs": [],
   "source": [
    "news_valid = pd.read_table(os.path.join(DATASET_PATH, 'valid', 'news.tsv'),\n",
    "                     names=['newid', 'vertical', 'subvertical', 'title',\n",
    "                            'abstract', 'url', 'entities in title', 'entities in abstract'],\n",
    "                     usecols = ['vertical', 'subvertical', 'title', 'abstract'])\n",
    "news_valid.head()"
   ]
  },
  {
   "cell_type": "code",
   "execution_count": null,
   "id": "19ef211c-557b-4393-8076-a38e82e27719",
   "metadata": {},
   "outputs": [],
   "source": [
    "news_valid.describe()"
   ]
  },
  {
   "cell_type": "markdown",
   "id": "c594905e-678e-4c1e-b8e6-326646d3251e",
   "metadata": {
    "tags": []
   },
   "source": [
    "## Behaviors"
   ]
  },
  {
   "cell_type": "code",
   "execution_count": null,
   "id": "bd470e5c-bbf8-4419-85b6-f30d7a6ffa1a",
   "metadata": {},
   "outputs": [],
   "source": [
    "df_clicks = pd.read_table(os.path.join(DATASET_PATH, 'train', 'behaviors.tsv'),\n",
    "                          parse_dates=[2], infer_datetime_format=True,                          \n",
    "                          names=['impressionid', 'userid', 'impression_time', 'user_click_history', 'news'])\n",
    "df_clicks.head()"
   ]
  },
  {
   "cell_type": "code",
   "execution_count": null,
   "id": "25c70bdb-6d2b-43f3-803c-050b7665671d",
   "metadata": {},
   "outputs": [],
   "source": [
    "df_clicks['impression_time'].min(), df_clicks['impression_time'].max()"
   ]
  },
  {
   "cell_type": "code",
   "execution_count": null,
   "id": "a51b5a8e-317e-4ac9-adc0-8532342ef6c8",
   "metadata": {},
   "outputs": [],
   "source": [
    "df_clicks.describe()"
   ]
  },
  {
   "cell_type": "code",
   "execution_count": null,
   "id": "a196e07a-264b-44ce-aa66-998238c265ab",
   "metadata": {},
   "outputs": [],
   "source": [
    "df_clicks = df_clicks.sort_values(by=\"impression_time\")\n",
    "\n",
    "df_clicks.head()"
   ]
  },
  {
   "cell_type": "code",
   "execution_count": null,
   "id": "faf02183-3690-4362-8ed9-6c66b20853a9",
   "metadata": {},
   "outputs": [],
   "source": [
    "df_clicks_valid = pd.read_table(os.path.join(DATASET_PATH, 'valid', 'behaviors.tsv'),\n",
    "                                parse_dates=[2], infer_datetime_format=True,\n",
    "                                names=['impressionid', 'userid', 'impression_time', 'user_click_history', 'news'])\n",
    "df_clicks_valid.head()"
   ]
  },
  {
   "cell_type": "code",
   "execution_count": null,
   "id": "a1be663f-219c-453b-ba88-19ce6ac441c9",
   "metadata": {},
   "outputs": [],
   "source": [
    "df_clicks_valid['impression_time'].min(), df_clicks_valid['impression_time'].max()"
   ]
  },
  {
   "cell_type": "code",
   "execution_count": null,
   "id": "0d5fb4d8-6993-4af6-93ff-4397a38c5938",
   "metadata": {},
   "outputs": [],
   "source": [
    "df_clicks_valid.describe()"
   ]
  },
  {
   "cell_type": "code",
   "execution_count": null,
   "id": "c5659914-63da-4844-8e97-870ca4a2cc42",
   "metadata": {},
   "outputs": [],
   "source": [
    "df_clicks_valid.iloc[0, 2]"
   ]
  },
  {
   "cell_type": "code",
   "execution_count": null,
   "id": "672af39e-bc39-4a9c-b2cb-119f402b3f7a",
   "metadata": {},
   "outputs": [],
   "source": [
    "df_clicks_valid = df_clicks_valid.sort_values(by=\"impression_time\")\n",
    "\n",
    "df_clicks_valid.head()"
   ]
  },
  {
   "cell_type": "markdown",
   "id": "225f3b7d-e6ed-439d-a6c0-ddaeda3980dc",
   "metadata": {},
   "source": [
    "# Generate dataset\n",
    "\n",
    "File columns\n",
    "\n",
    "    names=['Item','User','Rating','Timestamp']\n",
    "    \n",
    "File example\n",
    "\n",
    "head ratings_Video_Games.csv \n",
    "\n",
    "    AB9S9279OZ3QO,0078764343,5.0,1373155200\n",
    "    A24SSUT5CSW8BH,0078764343,5.0,1377302400\n",
    "    AK3V0HEBJMQ7J,0078764343,4.0,1372896000"
   ]
  },
  {
   "cell_type": "code",
   "execution_count": null,
   "id": "d0816964-7bd4-4c6b-a4f9-7237203fab18",
   "metadata": {},
   "outputs": [],
   "source": [
    "def parse_news_column(news):\n",
    "    if not news:\n",
    "        return []\n",
    "    \n",
    "    items = re.findall(r'([^\\-]+)-([01])', news)\n",
    "    \n",
    "    if items:\n",
    "        return [x[0].strip() for x in items if x and len(x) == 2 and x[1] and x[1] == '1']\n",
    "    \n",
    "    return []\n",
    "\n",
    "def convert_df(df, def_rating=5.0):\n",
    "    mapUser = defaultdict(lambda: 1+len(mapUser))\n",
    "    mapItem = defaultdict(lambda: 1+len(mapItem))\n",
    "    \n",
    "    result = []\n",
    "    \n",
    "    for _, row in df.iterrows():\n",
    "        news = row[4]\n",
    "        \n",
    "        parsed_news = parse_news_column(news)\n",
    "        \n",
    "        if parsed_news:\n",
    "            user = row[1]\n",
    "            impression_time = row[2]\n",
    "            \n",
    "            if user and impression_time:\n",
    "                user = mapUser[user]\n",
    "                impression_time = int(impression_time.replace(tzinfo=timezone.utc).timestamp())\n",
    "                \n",
    "                for news_id in parsed_news:\n",
    "                    result.append([mapItem[news_id], user, def_rating, impression_time])\n",
    "\n",
    "    print(f'Rows {len(result)}, users {len(mapUser)}, items {len(mapItem)}')\n",
    "    return result\n"
   ]
  },
  {
   "cell_type": "code",
   "execution_count": null,
   "id": "f27b2bff-acee-4c57-a0d1-5fd4b2ee473f",
   "metadata": {},
   "outputs": [],
   "source": [
    "df = pd.concat((df_clicks, df_clicks_valid))\n",
    "\n",
    "df.sort_values(by=\"impression_time\")\n",
    "\n",
    "df.head()"
   ]
  },
  {
   "cell_type": "code",
   "execution_count": null,
   "id": "9517c689-3c32-4679-a23a-6924371301f9",
   "metadata": {},
   "outputs": [],
   "source": [
    "df['impression_time'].min(), df['impression_time'].max()"
   ]
  },
  {
   "cell_type": "code",
   "execution_count": null,
   "id": "f9dabc0c-d209-457e-a601-8ee60d82231b",
   "metadata": {},
   "outputs": [],
   "source": [
    "result = convert_df(df)\n",
    "len(result)"
   ]
  },
  {
   "cell_type": "code",
   "execution_count": null,
   "id": "b988124f-7959-46b1-b6fe-335f4290bbcd",
   "metadata": {},
   "outputs": [],
   "source": [
    "# SAVE TO FILE\n",
    "\n",
    "fname = os.path.join(DATASET_PATH or '.', f'msnews_{DATASET_TYPE}.csv')\n",
    "\n",
    "with open(fname, 'w') as fp:\n",
    "    for line in result:\n",
    "        fp.write(','.join([str(x) for x in line]))\n",
    "        fp.write('\\n')\n",
    "     "
   ]
  },
  {
   "cell_type": "code",
   "execution_count": null,
   "id": "0318d5d7-18e1-4a18-892c-db87d38f2454",
   "metadata": {},
   "outputs": [],
   "source": []
  }
 ],
 "metadata": {
  "kernelspec": {
   "display_name": "Python 3 (ipykernel)",
   "language": "python",
   "name": "python3"
  },
  "language_info": {
   "codemirror_mode": {
    "name": "ipython",
    "version": 3
   },
   "file_extension": ".py",
   "mimetype": "text/x-python",
   "name": "python",
   "nbconvert_exporter": "python",
   "pygments_lexer": "ipython3",
   "version": "3.11.10"
  }
 },
 "nbformat": 4,
 "nbformat_minor": 5
}
