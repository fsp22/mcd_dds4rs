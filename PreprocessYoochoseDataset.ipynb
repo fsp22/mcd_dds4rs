{
 "cells": [
  {
   "cell_type": "code",
   "execution_count": null,
   "id": "f3354207-02e7-46d5-b74b-985fc28e6f2f",
   "metadata": {},
   "outputs": [],
   "source": [
    "import os\n",
    "import re\n",
    "import numpy as np\n",
    "import pandas as pd\n",
    "from pathlib import Path\n",
    "from collections import defaultdict\n",
    "import matplotlib.pyplot as plt\n",
    "%matplotlib inline\n",
    "\n",
    "plt.rcParams[\"figure.figsize\"] = (10,8)"
   ]
  },
  {
   "cell_type": "code",
   "execution_count": null,
   "id": "edc9ff43-d026-4ba6-b4a4-645a212c357b",
   "metadata": {},
   "outputs": [],
   "source": [
    "FNAME = Path('./yoochoose/yoochoose-buys.dat')"
   ]
  },
  {
   "cell_type": "code",
   "execution_count": null,
   "id": "a565f8bc-5151-430f-be26-a17e5f5c0f98",
   "metadata": {},
   "outputs": [],
   "source": [
    "df = pd.read_csv(FNAME, \n",
    "                 sep=',', \n",
    "                 names=['session_id', 'timestamp', 'item_id', 'price', 'quantity'],\n",
    "                 parse_dates=['timestamp'],\n",
    "                 #nrows=100\n",
    "                )\n",
    "\n",
    "df.head()"
   ]
  },
  {
   "cell_type": "code",
   "execution_count": null,
   "id": "42b0307a-1449-4ae0-ab48-1e850d14b70a",
   "metadata": {},
   "outputs": [],
   "source": [
    "f'{len(df):,d}'"
   ]
  },
  {
   "cell_type": "code",
   "execution_count": null,
   "id": "8a4e6d1b-06a5-4dd6-985a-0555e15608ca",
   "metadata": {},
   "outputs": [],
   "source": [
    "df.describe()"
   ]
  },
  {
   "cell_type": "code",
   "execution_count": null,
   "id": "f5d3e817-e19c-436f-af53-e99bcc805dcc",
   "metadata": {},
   "outputs": [],
   "source": [
    "df.timestamp"
   ]
  },
  {
   "cell_type": "code",
   "execution_count": null,
   "id": "d61f7a6e-d8d7-4562-84d5-329a75089217",
   "metadata": {},
   "outputs": [],
   "source": [
    "df.timestamp.min(), df.timestamp.max()"
   ]
  },
  {
   "cell_type": "markdown",
   "id": "c5856e62-caa5-4056-a087-47d89ecb8e0c",
   "metadata": {},
   "source": [
    "### Count distinct values"
   ]
  },
  {
   "cell_type": "code",
   "execution_count": null,
   "id": "2e7daaac-3202-4fe7-913d-616bb6af6eb8",
   "metadata": {},
   "outputs": [],
   "source": [
    "df.session_id.value_counts()"
   ]
  },
  {
   "cell_type": "code",
   "execution_count": null,
   "id": "920bfe79-9d8e-496c-9845-50574c412ab4",
   "metadata": {},
   "outputs": [],
   "source": [
    "df.item_id.nunique()"
   ]
  },
  {
   "cell_type": "markdown",
   "id": "d994d385-ebcf-4212-82a7-79324bd2319b",
   "metadata": {},
   "source": [
    "# Filtering\n",
    "\n",
    "We preserve the purchase sequences for a moderate size of data. Items\n",
    "interacted by less than 5 times are removed to avoid cold-start\n",
    "issue. Sequences whose length is less than 3 are also removed."
   ]
  },
  {
   "cell_type": "code",
   "execution_count": null,
   "id": "2f8a7b7f-d587-4a03-ba77-8a67a95338cf",
   "metadata": {},
   "outputs": [],
   "source": [
    "filtered_df = df[['session_id', 'timestamp', 'item_id']]"
   ]
  },
  {
   "cell_type": "code",
   "execution_count": null,
   "id": "d99b4959-85f1-456d-a637-c98518e82696",
   "metadata": {},
   "outputs": [],
   "source": [
    "mask = filtered_df.groupby('item_id')['item_id'].transform('size') >= 5\n",
    "\n",
    "filtered_df = filtered_df[mask]\n",
    "\n",
    "len(filtered_df)"
   ]
  },
  {
   "cell_type": "code",
   "execution_count": null,
   "id": "2977cf16-8b71-4243-a250-ee9491ff4216",
   "metadata": {},
   "outputs": [],
   "source": [
    "mask = filtered_df.groupby('session_id')['session_id'].transform('size') >= 3\n",
    "\n",
    "filtered_df = filtered_df[mask]\n",
    "\n",
    "len(filtered_df)"
   ]
  },
  {
   "cell_type": "code",
   "execution_count": null,
   "id": "db833d0c-5554-4c53-ac8c-81acd2ead7ea",
   "metadata": {},
   "outputs": [],
   "source": [
    "n = filtered_df.item_id.nunique()\n",
    "m = filtered_df.session_id.nunique()\n",
    "\n",
    "f'users = {m}, items = {n}'"
   ]
  },
  {
   "cell_type": "markdown",
   "id": "7cd65853-205d-49dd-b49d-120f5775136f",
   "metadata": {},
   "source": [
    "# Stats per session"
   ]
  },
  {
   "cell_type": "code",
   "execution_count": null,
   "id": "7597caee-1530-4ce9-a13a-5455272ac397",
   "metadata": {},
   "outputs": [],
   "source": [
    "# lunghezza max di una sequenza\n",
    "\n",
    "stats_session = filtered_df.groupby('session_id').agg(\n",
    "    NumRows=('session_id', 'size'),\n",
    "    MinTimestamp=('timestamp', 'min'),\n",
    "    MaxTimestamp=('timestamp', 'max')\n",
    ").reset_index()\n",
    "\n",
    "len(stats_session)"
   ]
  },
  {
   "cell_type": "code",
   "execution_count": null,
   "id": "aa7c804a-8f49-44e2-9616-92f5d806284f",
   "metadata": {},
   "outputs": [],
   "source": [
    "stats_session['delta_timestamp'] = stats_session.MaxTimestamp - stats_session.MinTimestamp\n",
    "\n",
    "stats_session.delta_timestamp.max()"
   ]
  },
  {
   "cell_type": "code",
   "execution_count": null,
   "id": "231cad46-d615-4c6b-a1e6-8306c26d2109",
   "metadata": {},
   "outputs": [],
   "source": [
    "sessions_length = stats_session.NumRows.sort_values().to_numpy()\n",
    "\n",
    "plt.plot(sessions_length);"
   ]
  },
  {
   "cell_type": "markdown",
   "id": "25932984-4c9f-45cc-bd0f-5e311a39c748",
   "metadata": {},
   "source": [
    "# Stats per item"
   ]
  },
  {
   "cell_type": "code",
   "execution_count": null,
   "id": "696b304b-d08d-48cf-ba15-6b7a2eb87b74",
   "metadata": {},
   "outputs": [],
   "source": [
    "\n",
    "stats_item = filtered_df.groupby('item_id').agg(\n",
    "    NumRows=('item_id', 'size'),\n",
    "    MinTimestamp=('timestamp', 'min'),\n",
    "    MaxTimestamp=('timestamp', 'max')\n",
    ").reset_index()\n",
    "\n",
    "len(stats_item)"
   ]
  },
  {
   "cell_type": "code",
   "execution_count": null,
   "id": "07618003-b0a7-4552-83c3-ec9a8257d048",
   "metadata": {},
   "outputs": [],
   "source": [
    "stats_item['delta_timestamp'] = stats_item.MaxTimestamp - stats_item.MinTimestamp\n",
    "\n",
    "stats_item.delta_timestamp.max()"
   ]
  },
  {
   "cell_type": "code",
   "execution_count": null,
   "id": "d267bccd-256f-4d63-aa6c-666d40393725",
   "metadata": {},
   "outputs": [],
   "source": [
    "items_count = stats_item.NumRows.sort_values().to_numpy()\n",
    "\n",
    "plt.plot(items_count);"
   ]
  },
  {
   "cell_type": "markdown",
   "id": "d2bbe498-bdc0-47ea-aed9-282dd587225c",
   "metadata": {},
   "source": [
    "# Save to file"
   ]
  },
  {
   "cell_type": "code",
   "execution_count": null,
   "id": "32698439-8206-4da6-9172-aa5f727b1160",
   "metadata": {},
   "outputs": [],
   "source": [
    "FNAME.with_suffix('.parquet')"
   ]
  },
  {
   "cell_type": "code",
   "execution_count": null,
   "id": "54ad96fc-ac9c-49b4-8547-32253abe8dda",
   "metadata": {},
   "outputs": [],
   "source": [
    "filtered_df2 = filtered_df.rename(columns={'session_id': 'User', 'item_id': 'Item', 'timestamp': 'Timestamp'})\n",
    "\n",
    "# remap id\n",
    "user_id_map = defaultdict(lambda: len(user_id_map) + 1)\n",
    "item_id_map = defaultdict(lambda: len(item_id_map) + 1)\n",
    "\n",
    "filtered_df2['User'] = filtered_df2.User.apply(lambda x: user_id_map[x])\n",
    "filtered_df2['Item'] = filtered_df2.Item.apply(lambda x: item_id_map[x])\n",
    "\n",
    "del user_id_map\n",
    "del item_id_map\n",
    "\n",
    "filtered_df2"
   ]
  },
  {
   "cell_type": "code",
   "execution_count": null,
   "id": "7c4e5cba-3ca4-43ce-bff8-087fb1de92cb",
   "metadata": {},
   "outputs": [],
   "source": [
    "for colName in ('User', 'Item'):\n",
    "    n_unique = filtered_df2[colName].nunique()\n",
    "    a = filtered_df2[colName].min()\n",
    "    b = filtered_df2[colName].max()\n",
    "    print(f'{colName} -> unique {n_unique}, min {a}, max {b}')"
   ]
  },
  {
   "cell_type": "code",
   "execution_count": null,
   "id": "e45e08cc-b31a-4fe0-9a24-30886501508c",
   "metadata": {},
   "outputs": [],
   "source": [
    "filtered_df2.to_parquet(FNAME.with_suffix('.parquet'))"
   ]
  },
  {
   "cell_type": "code",
   "execution_count": null,
   "id": "1e7ed58c-92e6-4441-bc87-18c3f7bfde45",
   "metadata": {},
   "outputs": [],
   "source": []
  }
 ],
 "metadata": {
  "kernelspec": {
   "display_name": "Python 3 (ipykernel)",
   "language": "python",
   "name": "python3"
  },
  "language_info": {
   "codemirror_mode": {
    "name": "ipython",
    "version": 3
   },
   "file_extension": ".py",
   "mimetype": "text/x-python",
   "name": "python",
   "nbconvert_exporter": "python",
   "pygments_lexer": "ipython3",
   "version": "3.11.10"
  }
 },
 "nbformat": 4,
 "nbformat_minor": 5
}
