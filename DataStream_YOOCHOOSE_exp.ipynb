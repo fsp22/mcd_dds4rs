{
 "cells": [
  {
   "cell_type": "markdown",
   "metadata": {
    "id": "ewVpdwNAe-6D"
   },
   "source": [
    "# **Import Libraries**"
   ]
  },
  {
   "cell_type": "code",
   "execution_count": null,
   "metadata": {
    "executionInfo": {
     "elapsed": 264,
     "status": "ok",
     "timestamp": 1652464907045,
     "user": {
      "displayName": "Francesco Sergio Pisani",
      "userId": "03809222613547531236"
     },
     "user_tz": -120
    },
    "id": "hBu1toQ4f9TW"
   },
   "outputs": [],
   "source": [
    "import os\n",
    "import sys\n",
    "\n",
    "from datastream import *\n",
    "import pickle\n",
    "import wget\n",
    "\n",
    "os.environ['CUDA_VISIBLE_DEVICES'] = '0'"
   ]
  },
  {
   "cell_type": "code",
   "execution_count": null,
   "metadata": {
    "executionInfo": {
     "elapsed": 18,
     "status": "ok",
     "timestamp": 1652464918198,
     "user": {
      "displayName": "Francesco Sergio Pisani",
      "userId": "03809222613547531236"
     },
     "user_tz": -120
    },
    "id": "eWhUDdd0fRh-"
   },
   "outputs": [],
   "source": [
    "WORKDIR = os.path.expanduser('./data_stream/yoochoose')\n",
    "\n",
    "os.makedirs(WORKDIR, exist_ok=True)\n",
    "os.chdir(WORKDIR)\n",
    "\n",
    "%matplotlib inline"
   ]
  },
  {
   "cell_type": "markdown",
   "metadata": {
    "id": "-yBv-w2yrumN"
   },
   "source": [
    "# Parameters"
   ]
  },
  {
   "cell_type": "code",
   "execution_count": null,
   "metadata": {
    "executionInfo": {
     "elapsed": 5,
     "status": "ok",
     "timestamp": 1652464918653,
     "user": {
      "displayName": "Francesco Sergio Pisani",
      "userId": "03809222613547531236"
     },
     "user_tz": -120
    },
    "id": "fNJOfNsxeGUn"
   },
   "outputs": [],
   "source": [
    "batch_size = 2000\n",
    "epochs = 20\n",
    "skiprows = 500000  # 1100000\n",
    "category='Video Games'\n",
    "window_size=20\n",
    "lr = 1e-3\n",
    "\n",
    "\n",
    "ENABLE_SAMPLING = True\n",
    "ENABLE_HITRATE_STAT = True\n",
    "DISABLE_TEMP_CHART = True\n",
    "step=20\n",
    "negative_sampling_processes=4\n"
   ]
  },
  {
   "cell_type": "markdown",
   "metadata": {
    "id": "Jb4cw2knfsCn"
   },
   "source": [
    "# **Data Loader**\n",
    "\n",
    "Download link:\n",
    "\n",
    "    https://www.kaggle.com/datasets/chadgostopp/recsys-challenge-2015\n",
    "\n",
    "See file *YoochooseDatasetPreprocess.ipynb* for *.parquet* file creation"
   ]
  },
  {
   "cell_type": "code",
   "execution_count": null,
   "metadata": {},
   "outputs": [],
   "source": [
    "DATASET_PATH = os.path.expanduser('./yoochoose-buys.parquet')\n",
    "\n",
    "if not os.path.exists(DATASET_PATH):\n",
    "    raise RuntimeError('dataset not found')"
   ]
  },
  {
   "cell_type": "code",
   "execution_count": null,
   "metadata": {
    "executionInfo": {
     "elapsed": 254,
     "status": "ok",
     "timestamp": 1652464918903,
     "user": {
      "displayName": "Francesco Sergio Pisani",
      "userId": "03809222613547531236"
     },
     "user_tz": -120
    },
    "id": "Ly2OvyTGc57C",
    "tags": []
   },
   "outputs": [],
   "source": [
    "class AmazonDataLoader:\n",
    "    threshold = 2\n",
    "    sep=','\n",
    "    header=0\n",
    "    stringId=False\n",
    "\n",
    "    def __init__(self,\n",
    "                 category=None,\n",
    "                 skiprows=0,\n",
    "                 force_download=False,\n",
    "                 batch_size=batch_size):\n",
    "        \n",
    "        self.archive_name = category\n",
    "        self.batch_size = batch_size\n",
    "        \n",
    "        print('*** process dataset ***')\n",
    "        #names=['Item','User','Timestamp']\n",
    "\n",
    "        self.df = pd.read_parquet(DATASET_PATH)\n",
    "        self.df['Timestamp'] = self.df.Timestamp.values.astype(np.int64) // 10 ** 9\n",
    "        print(self.df.info())\n",
    "        \n",
    "        print(f'read {len(self.df)} lines')\n",
    "   \n",
    "        self.M = self.df['User'].max()\n",
    "        self.N = self.df['Item'].max()\n",
    "        print(f'number of items stored in df {self.df[\"Item\"].nunique()}.')\n",
    "        print(f'user M = {self.M}, items N = {self.N}')\n",
    "\n",
    "        self.df['User'] = self.df['User'] - 1\n",
    "        self.df['Item'] = self.df['Item'] - 1\n",
    "        self.df['Rating']  = 5\n",
    "\n",
    "        self.df = self.df.sort_values('Timestamp')\n",
    "\n",
    "        # For each timestamp T find the number of available items at T\n",
    "        self.df['Available']=self.df['Item'].cummax(axis = 0)+1\n",
    "        print('*** Available Items at Each Timestamp ***')\n",
    "        print(self.df.head())\n",
    "\n",
    "        # Gettig positive dataframe\n",
    "        #df_pos=self.df.drop(self.df[self.df['Rating'] <= self.threshold].index, inplace = False)\n",
    "        df_pos=self.df.drop(self.df[self.df['Rating'] <= self.threshold].index, inplace = False)\n",
    "        df_aux=df_pos.copy()\n",
    "        \n",
    "        # negative items =======================================================\n",
    "        for i in range(negative_sampling_processes):\n",
    "          df_neg_aux = df_pos.copy()\n",
    "          \n",
    "          df_neg_aux['Random'] = np.random.randint(0, self.N, df_neg_aux.shape[0])\n",
    "          df_neg_aux['Item'] = (df_neg_aux['Random'] % df_neg_aux['Available'])\n",
    "          \n",
    "          df_neg_aux['Rating'] = 0\n",
    "            \n",
    "          df_aux=df_aux.append(df_neg_aux)\n",
    "        \n",
    "        # Given two tuples (user, item, 3/4/5) and (user, item, 0) the second one will be deleted \n",
    "        # (a wrong negative item for the user was inserted)\n",
    "        #df_aux = df_aux.sort_values('Rating', ascending=False).drop_duplicates(['User','Item'], keep='first')\n",
    "        # ======================================================================\n",
    "\n",
    "        # Getting negative dataframe\n",
    "        df_neg = df_aux.loc[df_aux[\"Rating\"] == 0]\n",
    "        \n",
    "        #print('#Pos', min(df_pos.index), max(df_pos.index))\n",
    "        #print('#Neg', min(df_neg.index), max(df_neg.index))\n",
    "\n",
    "        # Positive and Negative dataframes are now available\n",
    "        df_pos=df_pos.sort_values('Timestamp')\n",
    "        df_neg=df_neg.sort_values('Timestamp')\n",
    "        \n",
    "        print(\"*** Positive dataframe ***\")\n",
    "        print(df_pos.head(), '\\nSize', len(df_pos))\n",
    "        print(\"*** Negative dataframe ***\")\n",
    "        print(df_neg.head(), '\\nSize', len(df_neg))\n",
    "\n",
    "        # Join Positive and Negative dataframes\n",
    "        self.df_pair=df_pos.join(df_neg,lsuffix='_pos', rsuffix='_neg')\n",
    "        self.df_pair=self.df_pair.sort_values('Timestamp_pos')\n",
    "        print(\"*** Full pairs dataframe ***\")\n",
    "        print(self.df_pair.head())\n",
    "        print('Check join fails', len(self.df_pair[pd.isna(self.df_pair['Item_neg'])]))\n",
    "        \n",
    "        self.df_pair=self.df_pair[~pd.isna(self.df_pair['Item_neg'])]\n",
    "        print(f\"*** Full pairs dataframe ({len(self.df_pair)}) ***\")\n",
    "        print(self.df_pair.head())\n",
    "\n",
    "        # Drop useless columns, rename and sort useful columns\n",
    "        self.df_pair=self.df_pair.drop(columns=['Rating_pos','Available_pos','User_neg','Rating_neg','Timestamp_neg','Available_neg','Random',])\n",
    "        self.df_pair=self.df_pair.rename(columns={\"User_pos\": \"User\", \"Timestamp_pos\": \"Timestamp\"}, errors=\"raise\")\n",
    "        self.df_pair = self.df_pair[['User', 'Item_pos', 'Item_neg', 'Timestamp']]\n",
    "\n",
    "        self.df_pair = self.df_pair.dropna(axis=0, subset=['Item_neg'])\n",
    "        self.df_pair['Item_neg'] = pd.to_numeric(self.df_pair['Item_neg'], downcast='integer')\n",
    "\n",
    "        print(self.df_pair.isna().sum())\n",
    "        \n",
    "        print(\"*** Final pairs dataframe ***\")\n",
    "        print(self.df_pair.head())\n",
    "        \n",
    "        # ======================================================================\n",
    "        self.df['Day']=(self.df['Timestamp']/86400).round()\n",
    "        self.df['Week']=(self.df['Timestamp']/604800).round()\n",
    "        \n",
    "        self.df_item_week_max=self.df[['Item','Week']].groupby(['Item']).max().reset_index()\n",
    "        self.df_disappearing_items=self.df_item_week_max.groupby(['Week']).count().reset_index()\n",
    "        \n",
    "        self.df_item_week_min=self.df[['Item','Week']].groupby(['Item']).min().reset_index()\n",
    "        self.df_appearing_items=self.df_item_week_min.groupby(['Week']).count().reset_index()\n",
    "\n",
    "        self.df_user_week_max=self.df[['User','Week']].groupby(['User']).max().reset_index()\n",
    "        self.df_disappearing_users=self.df_user_week_max.groupby(['Week']).count().reset_index()\n",
    "        \n",
    "        self.df_user_week_min=self.df[['User','Week']].groupby(['User']).min().reset_index()\n",
    "        self.df_appearing_users=self.df_user_week_min.groupby(['Week']).count().reset_index()\n",
    "        \n",
    "        self.number_of_samples = len(self.df.index)\n",
    "        self.idx_list = np.arange(self.number_of_samples)\n",
    "\n",
    "        ts_min=self.df['Timestamp'].min()\n",
    "        ts_max=self.df['Timestamp'].max()\n",
    "\n",
    "        self.secs=ts_max-ts_min+1\n",
    "        self.mins=int(self.secs/60)\n",
    "        self.hours=int(self.mins/60)\n",
    "        self.days=int(self.hours/24)\n",
    "        self.weeks=int(self.days/7)\n",
    "        self.months=int(self.days/30)\n",
    "        self.years=int(self.days/365)\n",
    "\n",
    "        print('self.secs ', self.secs)\n",
    "        \n",
    "        print('='*80)\n",
    "        print(category)\n",
    "        print('='*80)\n",
    "        # print(self.df.head())\n",
    "\n",
    "        print('Number of Users:', self.M)\n",
    "        print('Number of Items:', self.N)\n",
    "        print('Number of Samples:', self.number_of_samples)\n",
    "\n",
    "        '''\n",
    "        print('Positive Samples=',self.positive_values)\n",
    "        print('Negative Samples=',self.negative_values)\n",
    "        '''\n",
    "\n",
    "        print('Days:',self.days)\n",
    "        print('Weeks:',self.weeks)\n",
    "        print('Months:',self.months)\n",
    "        print('Years:',self.years)\n",
    "\n",
    "    def iter(self, pair=True, batch_size=None, batch_history=10, binary=True):\n",
    "        if batch_size is None:\n",
    "          batch_size=self.batch_size\n",
    "        \n",
    "        for a in range(0,  self.number_of_samples, batch_size):\n",
    "\n",
    "          b = min(a + batch_size, self.number_of_samples)\n",
    "          \n",
    "          if pair:\n",
    "            data = self.df_pair.iloc[self.idx_list[a:b],:]\n",
    "            \n",
    "            #prev_data_idx = max(a - batch_history * batch_size, 0)\n",
    "            #if prev_data_idx < a:\n",
    "            #  user_id_list = set(data.iloc[:,0])\n",
    "            #  \n",
    "            #  df = self.df_pair.iloc[prev_data_idx:b, :]\n",
    "            #  data = df[df.iloc[:, 0].isin(user_id_list)]\n",
    "                \n",
    "            data_np=data.to_numpy()\n",
    "\n",
    "            yield data_np[:,0], data_np[:,1], data_np[:,2]  # users, pos_items, neg_item\n",
    "\n",
    "          else:\n",
    "            data = self.df.iloc[self.idx_list[a:b],:]\n",
    "            data_np=data.to_numpy()\n",
    "\n",
    "            if binary:\n",
    "              rating = (data_np[:,2]>self.threshold).astype(int)\n",
    "            else:\n",
    "              rating = data_np[:,2]\n",
    "\n",
    "            yield data_np[:,0], data_np[:,1], rating  # users, items, ratings"
   ]
  },
  {
   "cell_type": "code",
   "execution_count": null,
   "metadata": {
    "colab": {
     "base_uri": "https://localhost:8080/",
     "height": 1000
    },
    "executionInfo": {
     "elapsed": 20044,
     "status": "ok",
     "timestamp": 1652464938945,
     "user": {
      "displayName": "Francesco Sergio Pisani",
      "userId": "03809222613547531236"
     },
     "user_tz": -120
    },
    "id": "UjOv762bMREn",
    "jupyter": {
     "source_hidden": true
    },
    "outputId": "adab93be-2346-4a2f-8341-3b74030f7ea6"
   },
   "outputs": [],
   "source": [
    "dataLoader=AmazonDataLoader(category,skiprows=skiprows)\n",
    "\n",
    "xdi=dataLoader.df_disappearing_items['Week'].tolist()\n",
    "ydi=dataLoader.df_disappearing_items['Item'].tolist()\n",
    "\n",
    "xai=dataLoader.df_appearing_items['Week'].tolist()\n",
    "yai=dataLoader.df_appearing_items['Item'].tolist()\n",
    "\n",
    "print(f'Dataset parameter M = {dataLoader.M} users, N = {dataLoader.N} items')\n",
    "\n",
    "print('ITEMS')\n",
    "plt.plot(xdi,ydi,alpha=0.7,color='red') \n",
    "plt.plot(xai,yai,alpha=0.7,color='green') \n",
    "plt.xlabel('week')\n",
    "plt.ylabel('#items')\n",
    "plt.show()\n",
    "\n",
    "xdu=dataLoader.df_disappearing_users['Week'].tolist()\n",
    "ydu=dataLoader.df_disappearing_users['User'].tolist()\n",
    "\n",
    "xau=dataLoader.df_appearing_users['Week'].tolist()\n",
    "yau=dataLoader.df_appearing_users['User'].tolist()\n",
    "\n",
    "print('USERS')\n",
    "plt.plot(xdu,ydu,alpha=0.7,color='red') \n",
    "plt.plot(xau,yau,alpha=0.7,color='green')\n",
    "plt.xlabel('week')\n",
    "plt.ylabel('#users')\n",
    "plt.show()"
   ]
  },
  {
   "cell_type": "markdown",
   "metadata": {
    "id": "bcmAJjWaCAn8"
   },
   "source": [
    "# Train"
   ]
  },
  {
   "cell_type": "code",
   "execution_count": null,
   "metadata": {
    "colab": {
     "base_uri": "https://localhost:8080/"
    },
    "executionInfo": {
     "elapsed": 13728,
     "status": "ok",
     "timestamp": 1652464954485,
     "user": {
      "displayName": "Francesco Sergio Pisani",
      "userId": "03809222613547531236"
     },
     "user_tz": -120
    },
    "id": "RHtYPZGUD_KB",
    "outputId": "cc275bc3-25e9-4b2f-b003-a8d6282e0c68",
    "tags": []
   },
   "outputs": [],
   "source": [
    "ALPHA = .005\n",
    "BETA = .2\n",
    "resultBean = ResultDataClass()\n",
    "train_automaton(resultBean, dataLoader,device, ALPHA, BETA)\n",
    "\n",
    "print(f'Sampling: {ENABLE_SAMPLING}, Hitrate: {ENABLE_HITRATE_STAT}')\n",
    "print(f'models: {len(resultBean.model_list)}')\n",
    "print(f'bpr loss items: {len(resultBean.bpr_loss_list)}')\n",
    "print(f'train batch losses: {len(resultBean.train_batch_losses)}')\n",
    "print(f'drift points: {len(resultBean.drift_points)}')\n",
    "print(f'warning points: {len(resultBean.warning_points)}')"
   ]
  },
  {
   "cell_type": "code",
   "execution_count": null,
   "metadata": {},
   "outputs": [],
   "source": [
    "save_results(resultBean, dataLoader)\n",
    "save_models(resultBean, dataLoader)"
   ]
  },
  {
   "cell_type": "markdown",
   "metadata": {
    "id": "2a7NS0oHf9Tt"
   },
   "source": [
    "## Loss on old (blue) and new (red) items"
   ]
  },
  {
   "cell_type": "code",
   "execution_count": null,
   "metadata": {
    "colab": {
     "base_uri": "https://localhost:8080/",
     "height": 497
    },
    "executionInfo": {
     "elapsed": 713,
     "status": "ok",
     "timestamp": 1652464955193,
     "user": {
      "displayName": "Francesco Sergio Pisani",
      "userId": "03809222613547531236"
     },
     "user_tz": -120
    },
    "id": "-84lcoWYcg7Y",
    "outputId": "c30f8027-efbb-4ba4-abe8-92bbceb39717"
   },
   "outputs": [],
   "source": [
    "plot_items(resultBean)"
   ]
  },
  {
   "cell_type": "markdown",
   "metadata": {},
   "source": [
    "## Latent sizes"
   ]
  },
  {
   "cell_type": "code",
   "execution_count": null,
   "metadata": {},
   "outputs": [],
   "source": [
    "plot_latent_size(resultBean)"
   ]
  },
  {
   "cell_type": "markdown",
   "metadata": {
    "id": "5wDnamGRoBVJ"
   },
   "source": [
    "## Plot BPR loss windowed\n",
    "\n",
    "Computed on a mobile window"
   ]
  },
  {
   "cell_type": "code",
   "execution_count": null,
   "metadata": {
    "colab": {
     "base_uri": "https://localhost:8080/",
     "height": 497
    },
    "executionInfo": {
     "elapsed": 653,
     "status": "ok",
     "timestamp": 1652464955841,
     "user": {
      "displayName": "Francesco Sergio Pisani",
      "userId": "03809222613547531236"
     },
     "user_tz": -120
    },
    "id": "Men6cOx0Hc9V",
    "outputId": "110c856e-1140-4f82-be78-001b8bdbd07b"
   },
   "outputs": [],
   "source": [
    "plot_train_loss(resultBean)"
   ]
  },
  {
   "cell_type": "markdown",
   "metadata": {
    "id": "iLNB0hCho8yd"
   },
   "source": [
    "## Plot BPR loss per batch\n",
    "\n",
    "Row value for each batch"
   ]
  },
  {
   "cell_type": "code",
   "execution_count": null,
   "metadata": {
    "colab": {
     "base_uri": "https://localhost:8080/",
     "height": 497
    },
    "executionInfo": {
     "elapsed": 1071,
     "status": "ok",
     "timestamp": 1652464956909,
     "user": {
      "displayName": "Francesco Sergio Pisani",
      "userId": "03809222613547531236"
     },
     "user_tz": -120
    },
    "id": "pdPG_6FQo9cQ",
    "outputId": "872b4b7f-bf0b-4775-b601-6e848390a136"
   },
   "outputs": [],
   "source": [
    "plot_train_loss_batch(resultBean)"
   ]
  },
  {
   "cell_type": "markdown",
   "metadata": {
    "id": "etoSX4tvf9Tv"
   },
   "source": [
    "## Test set - Plot BPR loss on windowed\n",
    "\n",
    "Computed on a mobile window"
   ]
  },
  {
   "cell_type": "code",
   "execution_count": null,
   "metadata": {
    "colab": {
     "base_uri": "https://localhost:8080/",
     "height": 552
    },
    "executionInfo": {
     "elapsed": 756,
     "status": "ok",
     "timestamp": 1652464957660,
     "user": {
      "displayName": "Francesco Sergio Pisani",
      "userId": "03809222613547531236"
     },
     "user_tz": -120
    },
    "id": "v-Tm1EUOf9Tw",
    "outputId": "744f777c-d2f2-4712-e976-caed57be2aab"
   },
   "outputs": [],
   "source": [
    "plot_loss(resultBean)"
   ]
  },
  {
   "cell_type": "markdown",
   "metadata": {
    "id": "igMY7cbEf9Tw"
   },
   "source": [
    "## Test set - Plot BPR loss per batch\n",
    "\n",
    "Row value for each batch"
   ]
  },
  {
   "cell_type": "code",
   "execution_count": null,
   "metadata": {
    "colab": {
     "base_uri": "https://localhost:8080/",
     "height": 497
    },
    "executionInfo": {
     "elapsed": 739,
     "status": "ok",
     "timestamp": 1652464958395,
     "user": {
      "displayName": "Francesco Sergio Pisani",
      "userId": "03809222613547531236"
     },
     "user_tz": -120
    },
    "id": "sM3tRTdSf9Tw",
    "outputId": "a4ea674d-5e41-4b94-8f32-71d6d60ecd15"
   },
   "outputs": [],
   "source": [
    "plot_loss_batch(resultBean)"
   ]
  },
  {
   "cell_type": "markdown",
   "metadata": {
    "id": "P3gw88Aff9Tx"
   },
   "source": [
    "## Test set - Hitrate"
   ]
  },
  {
   "cell_type": "code",
   "execution_count": null,
   "metadata": {
    "executionInfo": {
     "elapsed": 11,
     "status": "ok",
     "timestamp": 1652464958397,
     "user": {
      "displayName": "Francesco Sergio Pisani",
      "userId": "03809222613547531236"
     },
     "user_tz": -120
    },
    "id": "zGUs2Mlrf9Tx"
   },
   "outputs": [],
   "source": [
    "plot_hitrate(resultBean)"
   ]
  },
  {
   "cell_type": "markdown",
   "metadata": {
    "id": "rXMBeBawpl_k"
   },
   "source": [
    "## Other plots"
   ]
  },
  {
   "cell_type": "code",
   "execution_count": null,
   "metadata": {
    "colab": {
     "base_uri": "https://localhost:8080/",
     "height": 281
    },
    "executionInfo": {
     "elapsed": 3068,
     "status": "ok",
     "timestamp": 1652464961458,
     "user": {
      "displayName": "Francesco Sergio Pisani",
      "userId": "03809222613547531236"
     },
     "user_tz": -120
    },
    "id": "vuX17cmapnCL",
    "outputId": "4c377b7f-183e-45ac-d209-c145ef186470"
   },
   "outputs": [],
   "source": [
    "other_plots(resultBean, dataLoader)"
   ]
  },
  {
   "cell_type": "code",
   "execution_count": null,
   "metadata": {},
   "outputs": [],
   "source": []
  }
 ],
 "metadata": {
  "accelerator": "GPU",
  "colab": {
   "collapsed_sections": [
    "Jb4cw2knfsCn",
    "Q7opn8Fnf9Ti",
    "i510Q6jHv6ch"
   ],
   "machine_shape": "hm",
   "name": "DataStreamBPR_autolatent.ipynb",
   "provenance": [],
   "toc_visible": true
  },
  "kernelspec": {
   "display_name": "Python 3 (ipykernel)",
   "language": "python",
   "name": "python3"
  },
  "language_info": {
   "codemirror_mode": {
    "name": "ipython",
    "version": 3
   },
   "file_extension": ".py",
   "mimetype": "text/x-python",
   "name": "python",
   "nbconvert_exporter": "python",
   "pygments_lexer": "ipython3",
   "version": "3.11.10"
  }
 },
 "nbformat": 4,
 "nbformat_minor": 4
}
